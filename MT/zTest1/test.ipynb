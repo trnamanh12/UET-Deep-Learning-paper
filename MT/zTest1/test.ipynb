{
 "cells": [
  {
   "cell_type": "code",
   "execution_count": 1,
   "metadata": {},
   "outputs": [],
   "source": [
    "import torch"
   ]
  },
  {
   "cell_type": "code",
   "execution_count": 2,
   "metadata": {},
   "outputs": [
    {
     "data": {
      "text/plain": [
       "tensor([[[1, 1, 1, 1],\n",
       "         [1, 1, 1, 1],\n",
       "         [0, 0, 0, 0]],\n",
       "\n",
       "        [[1, 1, 1, 1],\n",
       "         [1, 1, 1, 1],\n",
       "         [1, 1, 1, 1]],\n",
       "\n",
       "        [[1, 1, 1, 1],\n",
       "         [0, 0, 0, 0],\n",
       "         [0, 0, 0, 0]]])"
      ]
     },
     "execution_count": 2,
     "metadata": {},
     "output_type": "execute_result"
    }
   ],
   "source": [
    "a = torch.tensor([[1,1,0], [1,1,1], [1, 0, 0]])\n",
    "a.unsqueeze(-1).expand(-1,-1, 4)"
   ]
  },
  {
   "cell_type": "code",
   "execution_count": 3,
   "metadata": {},
   "outputs": [
    {
     "data": {
      "text/plain": [
       "3"
      ]
     },
     "execution_count": 3,
     "metadata": {},
     "output_type": "execute_result"
    }
   ],
   "source": [
    "torch.randn(3,4,5).dim()"
   ]
  },
  {
   "cell_type": "code",
   "execution_count": 7,
   "metadata": {},
   "outputs": [],
   "source": [
    "b = torch.ones(2,1,4,4 )"
   ]
  },
  {
   "cell_type": "code",
   "execution_count": 8,
   "metadata": {},
   "outputs": [
    {
     "data": {
      "text/plain": [
       "tensor([[[[1., 0., 0., 0.],\n",
       "          [1., 1., 0., 0.],\n",
       "          [1., 1., 1., 0.],\n",
       "          [1., 1., 1., 1.]]],\n",
       "\n",
       "\n",
       "        [[[1., 0., 0., 0.],\n",
       "          [1., 1., 0., 0.],\n",
       "          [1., 1., 1., 0.],\n",
       "          [1., 1., 1., 1.]]]])"
      ]
     },
     "execution_count": 8,
     "metadata": {},
     "output_type": "execute_result"
    }
   ],
   "source": [
    "torch.tril(b, diagonal=0)"
   ]
  },
  {
   "cell_type": "code",
   "execution_count": 1,
   "metadata": {},
   "outputs": [
    {
     "name": "stderr",
     "output_type": "stream",
     "text": [
      "/home/trnmah/mambaforge/envs/practic1/lib/python3.10/site-packages/torch/cuda/__init__.py:619: UserWarning: Can't initialize NVML\n",
      "  warnings.warn(\"Can't initialize NVML\")\n"
     ]
    }
   ],
   "source": [
    "from transformers import BertTokenizer, BertModel"
   ]
  },
  {
   "cell_type": "code",
   "execution_count": 2,
   "metadata": {},
   "outputs": [],
   "source": [
    "tokenizer = BertTokenizer.from_pretrained('bert-base-multilingual-cased')\n"
   ]
  },
  {
   "cell_type": "code",
   "execution_count": 3,
   "metadata": {},
   "outputs": [],
   "source": [
    "source_sentences = [\"Hello world\", \"How are you\", \"I am fine\"]\n",
    "a = tokenizer(source_sentences, padding=\"max_length\", truncation=True, return_tensors='pt', max_length=10)"
   ]
  },
  {
   "cell_type": "code",
   "execution_count": 5,
   "metadata": {},
   "outputs": [
    {
     "data": {
      "text/plain": [
       "tensor([[  101, 31178, 11356,   102,     0,     0,     0,     0,     0,     0],\n",
       "        [  101, 14962, 10301, 13028,   102,     0,     0,     0,     0,     0],\n",
       "        [  101,   146, 10392, 13435,   102,     0,     0,     0,     0,     0]])"
      ]
     },
     "execution_count": 5,
     "metadata": {},
     "output_type": "execute_result"
    }
   ],
   "source": [
    "a['input_ids']"
   ]
  },
  {
   "cell_type": "code",
   "execution_count": null,
   "metadata": {},
   "outputs": [],
   "source": []
  },
  {
   "cell_type": "code",
   "execution_count": null,
   "metadata": {},
   "outputs": [],
   "source": []
  },
  {
   "cell_type": "code",
   "execution_count": 1,
   "metadata": {},
   "outputs": [],
   "source": [
    "en = []\n",
    "with open('/home/trnmah/final_projectDL/src/MT/data/train-en-vi/train.en', 'r', encoding='utf-8') as file:\n",
    "\tfor line in file:\n",
    "\t\ten.append(line.strip())  # strip() removes trailing newline characters\n",
    "\n",
    "vi = []\n",
    "with open('/home/trnmah/final_projectDL/src/MT/data/train-en-vi/train.vi', 'r', encoding='utf-8') as file:\n",
    "\tfor line in file:\n",
    "\t\tvi.append(line.strip())  # strip() removes trailing newline characters"
   ]
  },
  {
   "cell_type": "code",
   "execution_count": 2,
   "metadata": {},
   "outputs": [],
   "source": [
    "en_valid = []\n",
    "with open('/home/trnmah/final_projectDL/src/MT/data/dev-2012-en-vi/tst2012.en', 'r', encoding='utf-8') as file:\n",
    "\tfor line in file:\n",
    "\t\ten_valid.append(line.strip())  # strip() removes trailing newline characters\n",
    "\n",
    "vi_valid = []\n",
    "with open('/home/trnmah/final_projectDL/src/MT/data/dev-2012-en-vi/tst2012.vi', 'r', encoding='utf-8') as file:\n",
    "\tfor line in file:\n",
    "\t\tvi_valid.append(line.strip())  # strip() removes trailing newline characters"
   ]
  },
  {
   "cell_type": "code",
   "execution_count": 3,
   "metadata": {},
   "outputs": [
    {
     "name": "stdout",
     "output_type": "stream",
     "text": [
      "['Rachel Pike : The science behind a climate headline', 'In 4 minutes , atmospheric chemist Rachel Pike provides a glimpse of the massive scientific effort behind the bold headlines on climate change , with her team -- one of thousands who contributed -- taking a risky flight over the rainforest in pursuit of data on a key molecule .', 'I &apos;d like to talk to you today about the scale of the scientific effort that goes into making the headlines you see in the paper .', 'Headlines that look like this when they have to do with climate change , and headlines that look like this when they have to do with air quality or smog .', 'They are both two branches of the same field of atmospheric science .']\n",
      "['Khoa học đằng sau một tiêu đề về khí hậu', 'Trong 4 phút , chuyên gia hoá học khí quyển Rachel Pike giới thiệu sơ lược về những nỗ lực khoa học miệt mài đằng sau những tiêu đề táo bạo về biến đổi khí hậu , cùng với đoàn nghiên cứu của mình -- hàng ngàn người đã cống hiến cho dự án này -- một chuyến bay mạo hiểm qua rừng già để tìm kiếm thông tin về một phân tử then chốt .', 'Tôi muốn cho các bạn biết về sự to lớn của những nỗ lực khoa học đã góp phần làm nên các dòng tít bạn thường thấy trên báo .', 'Có những dòng trông như thế này khi bàn về biến đổi khí hậu , và như thế này khi nói về chất lượng không khí hay khói bụi .', 'Cả hai đều là một nhánh của cùng một lĩnh vực trong ngành khoa học khí quyển .']\n",
      "['How can I speak in 10 minutes about the bonds of women over three generations , about how the astonishing strength of those bonds took hold in the life of a four-year-old girl huddled with her young sister , her mother and her grandmother for five days and nights in a small boat in the China Sea more than 30 years ago , bonds that took hold in the life of that small girl and never let go -- that small girl now living in San Francisco and speaking to you today ?', 'This is not a finished story .', 'It is a jigsaw puzzle still being put together .', 'Let me tell you about some of the pieces .', 'Imagine the first piece : a man burning his life &apos;s work .']\n",
      "['Làm sao tôi có thể trình bày trong 10 phút về sợi dây liên kết những người phụ nữ qua ba thế hệ , về việc làm thế nào những sợi dây mạnh mẽ đáng kinh ngạc ấy đã níu chặt lấy cuộc sống của một cô bé bốn tuổi co quắp với đứa em gái nhỏ của cô bé , với mẹ và bà trong suốt năm ngày đêm trên con thuyền nhỏ lênh đênh trên Biển Đông hơn 30 năm trước , những sợi dây liên kết đã níu lấy cuộc đời cô bé ấy và không bao giờ rời đi -- cô bé ấy giờ sống ở San Francisco và đang nói chuyện với các bạn hôm nay ?', 'Câu chuyện này chưa kết thúc .', 'Nó là một trò chơi ghép hình vẫn đang được xếp .', 'Hãy để tôi kể cho các bạn về vài mảnh ghép nhé .', 'Hãy tưởng tượng mảnh đầu tiên : một người đàn ông đốt cháy sự nghiệp cả đời mình .']\n"
     ]
    }
   ],
   "source": [
    "print(en[:5] )\n",
    "print(vi[:5] )\n",
    "print(en_valid[:5] )\n",
    "print(vi_valid[:5] )"
   ]
  },
  {
   "cell_type": "code",
   "execution_count": 4,
   "metadata": {},
   "outputs": [],
   "source": [
    "train_data_src = en[2269:(2269+4096)]\n",
    "train_data_trg= vi[2269:(2269+4096)]\n",
    "valid_data_src = en_valid[269:(269+512)]\n",
    "valid_data_trg= vi_valid[269:(269+512)]\n",
    "test_data_src = en_valid[4:(4+256)]\n",
    "test_data_trg= vi_valid[4:(4+256)]\n",
    "\n"
   ]
  },
  {
   "cell_type": "code",
   "execution_count": 5,
   "metadata": {},
   "outputs": [
    {
     "name": "stderr",
     "output_type": "stream",
     "text": [
      "/home/trnmah/mambaforge/envs/practic1/lib/python3.10/site-packages/torch/cuda/__init__.py:619: UserWarning: Can't initialize NVML\n",
      "  warnings.warn(\"Can't initialize NVML\")\n"
     ]
    }
   ],
   "source": [
    "from data import SentenceDataset\n",
    "from model import TransformerMT\n",
    "from transformers import BertTokenizerFast\n",
    "from w2v import WordEmbedding\n",
    "import torch.optim as optim\n",
    "import torch.nn as nn\n",
    "import torch\n",
    "import torch.nn.functional as F\n",
    "from torch.utils.data import DataLoader\n",
    "import time"
   ]
  },
  {
   "cell_type": "code",
   "execution_count": 6,
   "metadata": {},
   "outputs": [],
   "source": [
    "tokenizer = BertTokenizerFast.from_pretrained('bert-base-multilingual-cased')"
   ]
  },
  {
   "cell_type": "code",
   "execution_count": 7,
   "metadata": {},
   "outputs": [],
   "source": [
    "train_data = SentenceDataset(train_data_src, train_data_trg, tokenizer, max_length=128)\n",
    "valid_data = SentenceDataset(valid_data_src, valid_data_trg, tokenizer, max_length=128)\n",
    "test_data = SentenceDataset(test_data_src, test_data_trg, tokenizer, max_length=128)"
   ]
  },
  {
   "cell_type": "code",
   "execution_count": 8,
   "metadata": {},
   "outputs": [],
   "source": [
    "train_loader = DataLoader(train_data, batch_size=32, shuffle=True)\n",
    "valid_loader = DataLoader(valid_data, batch_size=32, shuffle=False)\n",
    "test_loader = DataLoader(test_data, batch_size=32, shuffle=False)"
   ]
  },
  {
   "cell_type": "code",
   "execution_count": 9,
   "metadata": {},
   "outputs": [],
   "source": [
    "device = torch.device('cuda' if torch.cuda.is_available() else 'cpu')"
   ]
  },
  {
   "cell_type": "code",
   "execution_count": 10,
   "metadata": {},
   "outputs": [
    {
     "data": {
      "text/plain": [
       "119547"
      ]
     },
     "execution_count": 10,
     "metadata": {},
     "output_type": "execute_result"
    }
   ],
   "source": [
    "tokenizer.vocab_size"
   ]
  },
  {
   "cell_type": "code",
   "execution_count": 11,
   "metadata": {},
   "outputs": [],
   "source": [
    "args = {\n",
    "\t'embed_size': 256,\n",
    "\t'num_layers': 4,\n",
    "\t'max_len' : 128,\n",
    "\t'nhead': 4,\n",
    "\t'dropout': 0.1,\n",
    "\t'vocab_size': tokenizer.vocab_size,\n",
    "\t'BERT': False,\n",
    "\t'device': device\n",
    "}"
   ]
  },
  {
   "cell_type": "code",
   "execution_count": 17,
   "metadata": {},
   "outputs": [],
   "source": [
    "class MultiLayerTransformerMT(nn.Module):\n",
    "\tdef __init__(self, args):\n",
    "\t\tsuper(MultiLayerTransformerMT, self).__init__()\n",
    "\t\tself.embeddings = WordEmbedding(args['vocab_size'], args['embed_size'], args['max_len'], args['device'], args['BERT'])\n",
    "\t\tself.transformer = nn.ModuleList([TransformerMT(args) for _ in range(args['num_layers'])])\n",
    "\t\tself.head = nn.Linear(args['embed_size'], args['vocab_size'])\n",
    "\tdef forward(self, src, tgt, src_mask, tgt_mask):\n",
    "\t\tsrc = self.embeddings(src)\n",
    "\t\ttgt = self.embeddings(tgt)\n",
    "\t\tfor layer in self.transformer:\n",
    "\t\t\tsrc, tgt, src_mask, tgt_mask = layer(src, tgt, src_mask, tgt_mask)\n",
    "\t\ttgt = self.head(tgt)\n",
    "\t\treturn tgt.reshape(-1, tgt.size(-1))\n",
    "\n"
   ]
  },
  {
   "cell_type": "code",
   "execution_count": 18,
   "metadata": {},
   "outputs": [],
   "source": [
    "model = MultiLayerTransformerMT(args).to(device)\n",
    "model = torch.compile(model)\n",
    "optimizer = optim.AdamW(model.parameters(), lr=0.001,  weight_decay=0.01)\n",
    "\t"
   ]
  },
  {
   "cell_type": "code",
   "execution_count": 19,
   "metadata": {},
   "outputs": [],
   "source": [
    "critertion = nn.CrossEntropyLoss().to(device)"
   ]
  },
  {
   "cell_type": "code",
   "execution_count": 20,
   "metadata": {},
   "outputs": [],
   "source": [
    "def train (model, data, optimizer, critertion, device, epochs=1):\n",
    "\tmodel.train()\n",
    "\tstart = time.time()\n",
    "\trunning_loss = 0\n",
    "\tfor j in range(epochs):\n",
    "\t\tfor i, batch in enumerate(data):\n",
    "\t\t\tsrc = batch['src'].to(device)\n",
    "\t\t\ttgt = batch['tgt'].to(device)\n",
    "\t\t\tsrc_mask = batch['src_mask'].to(device)\n",
    "\t\t\ttgt_mask = batch['tgt_mask'].to(device)\n",
    "\t\t\toptimizer.zero_grad()\n",
    "\t\t\twith torch.autocast(device_type=device, dtype=torch.bfloat16):\n",
    "\t\t\t\toutput = model(src, tgt[:, :-1], src_mask, tgt_mask[:, :-1])\n",
    "\t\t\t\t# output = output.view(-1, output.size(-1))\n",
    "\t\t\t\tloss = critertion(output, tgt[:, 1:].contiguous().view(-1))\n",
    "\t\t\tloss.backward()\n",
    "\t\t\toptimizer.step()\n",
    "\t\t\ttorch.cuda.synchronize()\n",
    "\t\t\trunning_loss += (loss.item())\n",
    "\t\t\tif (i+1) % 1000 == 0:\n",
    "\t\t\t\tprint(f'Epoch: {j}, step: {i}, Loss: {loss.item()/i}')\n",
    "\tend = time.time()\n",
    "\tprint(f'Time taken: {end-start}')"
   ]
  },
  {
   "cell_type": "code",
   "execution_count": null,
   "metadata": {},
   "outputs": [],
   "source": []
  },
  {
   "cell_type": "code",
   "execution_count": 21,
   "metadata": {},
   "outputs": [
    {
     "ename": "KeyboardInterrupt",
     "evalue": "",
     "output_type": "error",
     "traceback": [
      "\u001b[0;31m---------------------------------------------------------------------------\u001b[0m",
      "\u001b[0;31mKeyboardInterrupt\u001b[0m                         Traceback (most recent call last)",
      "Cell \u001b[0;32mIn[21], line 1\u001b[0m\n\u001b[0;32m----> 1\u001b[0m \u001b[43mtrain\u001b[49m\u001b[43m(\u001b[49m\u001b[43mmodel\u001b[49m\u001b[43m,\u001b[49m\u001b[43m \u001b[49m\u001b[43mtrain_loader\u001b[49m\u001b[43m,\u001b[49m\u001b[43m \u001b[49m\u001b[43moptimizer\u001b[49m\u001b[43m,\u001b[49m\u001b[43m \u001b[49m\u001b[43mcritertion\u001b[49m\u001b[43m,\u001b[49m\u001b[43m \u001b[49m\u001b[43mdevice\u001b[49m\u001b[43m,\u001b[49m\u001b[43m \u001b[49m\u001b[43mepochs\u001b[49m\u001b[38;5;241;43m=\u001b[39;49m\u001b[38;5;241;43m1\u001b[39;49m\u001b[43m)\u001b[49m\n",
      "Cell \u001b[0;32mIn[20], line 14\u001b[0m, in \u001b[0;36mtrain\u001b[0;34m(model, data, optimizer, critertion, device, epochs)\u001b[0m\n\u001b[1;32m     12\u001b[0m \u001b[38;5;66;03m# output = output.view(-1, output.size(-1))\u001b[39;00m\n\u001b[1;32m     13\u001b[0m loss \u001b[38;5;241m=\u001b[39m critertion(output\u001b[38;5;241m.\u001b[39mview(\u001b[38;5;241m-\u001b[39m\u001b[38;5;241m1\u001b[39m, output\u001b[38;5;241m.\u001b[39msize(\u001b[38;5;241m-\u001b[39m\u001b[38;5;241m1\u001b[39m)), tgt[:, \u001b[38;5;241m1\u001b[39m:]\u001b[38;5;241m.\u001b[39mcontiguous()\u001b[38;5;241m.\u001b[39mview(\u001b[38;5;241m-\u001b[39m\u001b[38;5;241m1\u001b[39m))\n\u001b[0;32m---> 14\u001b[0m \u001b[43mloss\u001b[49m\u001b[38;5;241;43m.\u001b[39;49m\u001b[43mbackward\u001b[49m\u001b[43m(\u001b[49m\u001b[43m)\u001b[49m\n\u001b[1;32m     15\u001b[0m optimizer\u001b[38;5;241m.\u001b[39mstep()\n\u001b[1;32m     16\u001b[0m running_loss \u001b[38;5;241m+\u001b[39m\u001b[38;5;241m=\u001b[39m (loss\u001b[38;5;241m.\u001b[39mitem())\n",
      "File \u001b[0;32m~/mambaforge/envs/practic1/lib/python3.10/site-packages/torch/_tensor.py:525\u001b[0m, in \u001b[0;36mTensor.backward\u001b[0;34m(self, gradient, retain_graph, create_graph, inputs)\u001b[0m\n\u001b[1;32m    515\u001b[0m \u001b[38;5;28;01mif\u001b[39;00m has_torch_function_unary(\u001b[38;5;28mself\u001b[39m):\n\u001b[1;32m    516\u001b[0m     \u001b[38;5;28;01mreturn\u001b[39;00m handle_torch_function(\n\u001b[1;32m    517\u001b[0m         Tensor\u001b[38;5;241m.\u001b[39mbackward,\n\u001b[1;32m    518\u001b[0m         (\u001b[38;5;28mself\u001b[39m,),\n\u001b[0;32m   (...)\u001b[0m\n\u001b[1;32m    523\u001b[0m         inputs\u001b[38;5;241m=\u001b[39minputs,\n\u001b[1;32m    524\u001b[0m     )\n\u001b[0;32m--> 525\u001b[0m \u001b[43mtorch\u001b[49m\u001b[38;5;241;43m.\u001b[39;49m\u001b[43mautograd\u001b[49m\u001b[38;5;241;43m.\u001b[39;49m\u001b[43mbackward\u001b[49m\u001b[43m(\u001b[49m\n\u001b[1;32m    526\u001b[0m \u001b[43m    \u001b[49m\u001b[38;5;28;43mself\u001b[39;49m\u001b[43m,\u001b[49m\u001b[43m \u001b[49m\u001b[43mgradient\u001b[49m\u001b[43m,\u001b[49m\u001b[43m \u001b[49m\u001b[43mretain_graph\u001b[49m\u001b[43m,\u001b[49m\u001b[43m \u001b[49m\u001b[43mcreate_graph\u001b[49m\u001b[43m,\u001b[49m\u001b[43m \u001b[49m\u001b[43minputs\u001b[49m\u001b[38;5;241;43m=\u001b[39;49m\u001b[43minputs\u001b[49m\n\u001b[1;32m    527\u001b[0m \u001b[43m\u001b[49m\u001b[43m)\u001b[49m\n",
      "File \u001b[0;32m~/mambaforge/envs/practic1/lib/python3.10/site-packages/torch/autograd/__init__.py:267\u001b[0m, in \u001b[0;36mbackward\u001b[0;34m(tensors, grad_tensors, retain_graph, create_graph, grad_variables, inputs)\u001b[0m\n\u001b[1;32m    262\u001b[0m     retain_graph \u001b[38;5;241m=\u001b[39m create_graph\n\u001b[1;32m    264\u001b[0m \u001b[38;5;66;03m# The reason we repeat the same comment below is that\u001b[39;00m\n\u001b[1;32m    265\u001b[0m \u001b[38;5;66;03m# some Python versions print out the first line of a multi-line function\u001b[39;00m\n\u001b[1;32m    266\u001b[0m \u001b[38;5;66;03m# calls in the traceback and some print out the last line\u001b[39;00m\n\u001b[0;32m--> 267\u001b[0m \u001b[43m_engine_run_backward\u001b[49m\u001b[43m(\u001b[49m\n\u001b[1;32m    268\u001b[0m \u001b[43m    \u001b[49m\u001b[43mtensors\u001b[49m\u001b[43m,\u001b[49m\n\u001b[1;32m    269\u001b[0m \u001b[43m    \u001b[49m\u001b[43mgrad_tensors_\u001b[49m\u001b[43m,\u001b[49m\n\u001b[1;32m    270\u001b[0m \u001b[43m    \u001b[49m\u001b[43mretain_graph\u001b[49m\u001b[43m,\u001b[49m\n\u001b[1;32m    271\u001b[0m \u001b[43m    \u001b[49m\u001b[43mcreate_graph\u001b[49m\u001b[43m,\u001b[49m\n\u001b[1;32m    272\u001b[0m \u001b[43m    \u001b[49m\u001b[43minputs\u001b[49m\u001b[43m,\u001b[49m\n\u001b[1;32m    273\u001b[0m \u001b[43m    \u001b[49m\u001b[43mallow_unreachable\u001b[49m\u001b[38;5;241;43m=\u001b[39;49m\u001b[38;5;28;43;01mTrue\u001b[39;49;00m\u001b[43m,\u001b[49m\n\u001b[1;32m    274\u001b[0m \u001b[43m    \u001b[49m\u001b[43maccumulate_grad\u001b[49m\u001b[38;5;241;43m=\u001b[39;49m\u001b[38;5;28;43;01mTrue\u001b[39;49;00m\u001b[43m,\u001b[49m\n\u001b[1;32m    275\u001b[0m \u001b[43m\u001b[49m\u001b[43m)\u001b[49m\n",
      "File \u001b[0;32m~/mambaforge/envs/practic1/lib/python3.10/site-packages/torch/autograd/graph.py:744\u001b[0m, in \u001b[0;36m_engine_run_backward\u001b[0;34m(t_outputs, *args, **kwargs)\u001b[0m\n\u001b[1;32m    742\u001b[0m     unregister_hooks \u001b[38;5;241m=\u001b[39m _register_logging_hooks_on_whole_graph(t_outputs)\n\u001b[1;32m    743\u001b[0m \u001b[38;5;28;01mtry\u001b[39;00m:\n\u001b[0;32m--> 744\u001b[0m     \u001b[38;5;28;01mreturn\u001b[39;00m \u001b[43mVariable\u001b[49m\u001b[38;5;241;43m.\u001b[39;49m\u001b[43m_execution_engine\u001b[49m\u001b[38;5;241;43m.\u001b[39;49m\u001b[43mrun_backward\u001b[49m\u001b[43m(\u001b[49m\u001b[43m  \u001b[49m\u001b[38;5;66;43;03m# Calls into the C++ engine to run the backward pass\u001b[39;49;00m\n\u001b[1;32m    745\u001b[0m \u001b[43m        \u001b[49m\u001b[43mt_outputs\u001b[49m\u001b[43m,\u001b[49m\u001b[43m \u001b[49m\u001b[38;5;241;43m*\u001b[39;49m\u001b[43margs\u001b[49m\u001b[43m,\u001b[49m\u001b[43m \u001b[49m\u001b[38;5;241;43m*\u001b[39;49m\u001b[38;5;241;43m*\u001b[39;49m\u001b[43mkwargs\u001b[49m\n\u001b[1;32m    746\u001b[0m \u001b[43m    \u001b[49m\u001b[43m)\u001b[49m  \u001b[38;5;66;03m# Calls into the C++ engine to run the backward pass\u001b[39;00m\n\u001b[1;32m    747\u001b[0m \u001b[38;5;28;01mfinally\u001b[39;00m:\n\u001b[1;32m    748\u001b[0m     \u001b[38;5;28;01mif\u001b[39;00m attach_logging_hooks:\n",
      "\u001b[0;31mKeyboardInterrupt\u001b[0m: "
     ]
    }
   ],
   "source": [
    "train(model, train_loader, optimizer, critertion, device, epochs=5)"
   ]
  },
  {
   "cell_type": "code",
   "execution_count": null,
   "metadata": {},
   "outputs": [],
   "source": [
    "import time\n",
    "from nltk.translate.bleu_score import sentence_bleu, SmoothingFunction"
   ]
  },
  {
   "cell_type": "code",
   "execution_count": null,
   "metadata": {},
   "outputs": [],
   "source": [
    "def evaluation(model, data, critertion, device):\n",
    "\tmodel.eval()\n",
    "\trunning_loss = []\n",
    "\tt0 = time.time()\n",
    "\tfor i, batch in enumerate(data):\n",
    "\t\t\tsrc = batch['src'].to(device)\n",
    "\t\t\ttgt = batch['tgt'].to(device)\n",
    "\t\t\tsrc_mask = batch['src_mask'].to(device)\n",
    "\t\t\ttgt_mask = batch['tgt_mask'].to(device)\n",
    "\t\t\twith torch.no_grad():\n",
    "\t\t\t\toutput = model(src, tgt[:, :-1], src_mask, tgt_mask[:, :-1]) # output = [batch_size, tgt_len-1, vocab_size]\n",
    "\t\t\t\tloss = critertion(output.view(), tgt[:, 1:].view(-1))\n",
    "\n",
    "\t\t\t\ttopk_prob, topk_ids = output.topk(k=3, dim=-1)\n",
    "\t\t\t\tid = torch.multinomial(topk_prob, num_samples=1)\n",
    "\t\t\t\txcol = torch.gather(topk_ids, -1, id) # \n",
    "\t\t\t\toutput = output.squeeze(-1).view(-1, src.size(1))\n",
    "\t\t\t\t# Calculate BLEU for each sentence and accumulate\n",
    "\t\t\t\tfor ref, pred in zip(tgt[:, :-1], output):\n",
    "\t\t\t\t\tbleu_score += sentence_bleu([ref.cpu().numpy().tolist()], pred.cpu().numpy().tolist(), smoothing_function=SmoothingFunction().method4)\n",
    "\t\t\ttotal_samples += src.size(0)\t\t\t\t\n",
    "\t\t\trunning_loss += loss.item()\n",
    "\tt1 = time.time()\n",
    "\tprint(f\"Training time: {t1-t0}, Loss: {running_loss/len(data)}, BLEU: {bleu_score/total_samples}\")"
   ]
  },
  {
   "cell_type": "code",
   "execution_count": null,
   "metadata": {},
   "outputs": [],
   "source": [
    "def get_score_bleu()"
   ]
  },
  {
   "cell_type": "code",
   "execution_count": 17,
   "metadata": {},
   "outputs": [
    {
     "data": {
      "text/plain": [
       "101"
      ]
     },
     "execution_count": 17,
     "metadata": {},
     "output_type": "execute_result"
    }
   ],
   "source": [
    "tokenizer.cls_token_id"
   ]
  },
  {
   "cell_type": "code",
   "execution_count": null,
   "metadata": {},
   "outputs": [],
   "source": [
    "def generate_translation(model, sentences, device):\n",
    "\tmodel.eval()\n",
    "\tsrc = tokenizer(sentence, padding=\"max_length\", truncation=True, return_tensors='pt', max_length=128)\n",
    "\tsrc = src['input_ids'].to(device)\n",
    "\tsrc_mask = src['attention_mask'].to(device)    \n",
    "\n",
    "\tsample_rng = torch.Generator(device=device)\n",
    "\tsample_rng.manual_seed(123)    \n",
    "\ttgt = [tokenizer.cls_token_id]\n",
    "\tfor sentence in sentences:\n",
    "\t\ttgt_mask = torch.ones(tgt.shape[0], tgt.shape[1], device=device).tril(diagonal=0)\n",
    "\t\twith torch.no_grad():\n",
    "\t\t\toutput = model(src, tgt, src_mask, tgt_mask)\n",
    "\t\t\tnext_token = output[:, -1, :]\n",
    "\t\t\tnext_token = F.softmax(next_token, dim=-1)\n",
    "\t\t\ttopk_prob, topk_idx = torch.topk(next_token, k=8, dim=-1)\n",
    "\t\t\tid  = torch.multinomial(topk_prob, num_samples=1, generator=sample_rng)\n",
    "\t\t\tactual_token = topk_idx.gather(dim=-1, index=id)\n",
    "\t\t\ttgt.append(actual_token)\n",
    "\treturn tgt"
   ]
  },
  {
   "cell_type": "code",
   "execution_count": null,
   "metadata": {},
   "outputs": [],
   "source": [
    "def accuracy(model, data, device):\n",
    "\tmodel.eval()\n",
    "\trunning_loss = []\n",
    "\n",
    "\twith torch.no_grad():\n",
    "\t\tfor i, batch in enumerate(data):\n",
    "\t\t\tsrc = batch['src'].to(device)\n",
    "\t\t\ttgt = batch['tgt'].to(device)\n",
    "\t\t\tsrc_mask = batch['src_mask'].to(device)\n",
    "\t\t\ttgt_mask = batch['tgt_mask'].to(device)\n",
    "\t\t\toutput = model(src, tgt[:, :-1], src_mask, tgt_mask[:, :-1])\n",
    "\t\t\tloss = critertion(output, tgt[:, 1:].view(-1))\n",
    "\t\t\toutput = output.argmax(dim=-1)\n"
   ]
  },
  {
   "cell_type": "code",
   "execution_count": 2,
   "metadata": {},
   "outputs": [],
   "source": [
    "import torch"
   ]
  },
  {
   "cell_type": "code",
   "execution_count": null,
   "metadata": {},
   "outputs": [],
   "source": [
    "device = torch.device('cuda' if torch.cuda.is_available() else 'cpu')"
   ]
  },
  {
   "cell_type": "code",
   "execution_count": 3,
   "metadata": {},
   "outputs": [
    {
     "data": {
      "text/plain": [
       "torch.Size([3])"
      ]
     },
     "execution_count": 3,
     "metadata": {},
     "output_type": "execute_result"
    }
   ],
   "source": [
    "a = torch.randn(3,4)\n",
    "a[:, 1].shape"
   ]
  },
  {
   "cell_type": "code",
   "execution_count": 4,
   "metadata": {},
   "outputs": [
    {
     "data": {
      "text/plain": [
       "tensor([[ 0.7775,  1.0295,  0.0726, -0.1331],\n",
       "        [ 0.2277, -0.3164,  0.5758, -0.4550],\n",
       "        [-1.9309,  1.7030, -0.3719, -0.1745]])"
      ]
     },
     "execution_count": 4,
     "metadata": {},
     "output_type": "execute_result"
    }
   ],
   "source": [
    "a"
   ]
  },
  {
   "cell_type": "code",
   "execution_count": 10,
   "metadata": {},
   "outputs": [],
   "source": [
    "model = torch.nn.Embedding(10,3)"
   ]
  },
  {
   "cell_type": "code",
   "execution_count": 13,
   "metadata": {},
   "outputs": [
    {
     "name": "stdout",
     "output_type": "stream",
     "text": [
      "tensor([[1.0295],\n",
      "        [0.5758],\n",
      "        [1.7030]]) \n",
      " torch.Size([3, 1]) \n",
      " torch.Size([3, 1, 3]) \n",
      " torch.Size([3, 3])\n"
     ]
    }
   ],
   "source": [
    "topk_prob, topk_idx = torch.topk(a, k=1, dim=-1)\n",
    "print(topk_prob,\"\\n\", topk_prob.shape,  \"\\n\", model(topk_idx).shape, '\\n', model(topk_idx.squeeze(-1)).shape)"
   ]
  },
  {
   "cell_type": "code",
   "execution_count": null,
   "metadata": {},
   "outputs": [],
   "source": []
  }
 ],
 "metadata": {
  "kernelspec": {
   "display_name": "practic1",
   "language": "python",
   "name": "python3"
  },
  "language_info": {
   "codemirror_mode": {
    "name": "ipython",
    "version": 3
   },
   "file_extension": ".py",
   "mimetype": "text/x-python",
   "name": "python",
   "nbconvert_exporter": "python",
   "pygments_lexer": "ipython3",
   "version": "3.1.undefined"
  }
 },
 "nbformat": 4,
 "nbformat_minor": 2
}
